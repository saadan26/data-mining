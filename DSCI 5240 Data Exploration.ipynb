{
 "cells": [
  {
   "cell_type": "markdown",
   "id": "edb5e6f2",
   "metadata": {},
   "source": [
    "### Week 2 Data Exploration"
   ]
  },
  {
   "cell_type": "code",
   "execution_count": 1,
   "id": "6fc2bb24",
   "metadata": {},
   "outputs": [],
   "source": [
    "# This code appears in every demonstration Notebook.\n",
    "# By default, when you run each cell, only the last output of the codes will show.\n",
    "# This code makes all outputs of a cell show.\n",
    "from IPython.core.interactiveshell import InteractiveShell\n",
    "InteractiveShell.ast_node_interactivity = \"all\""
   ]
  },
  {
   "cell_type": "markdown",
   "id": "4b99e67c",
   "metadata": {},
   "source": [
    "we will explore the user abd order data from JD.com."
   ]
  },
  {
   "cell_type": "markdown",
   "id": "a1eef17f",
   "metadata": {},
   "source": [
    "1.we import the necessary packages."
   ]
  },
  {
   "cell_type": "code",
   "execution_count": 2,
   "id": "9a75a73d",
   "metadata": {},
   "outputs": [],
   "source": [
    "import pandas as pd"
   ]
  },
  {
   "cell_type": "markdown",
   "id": "db620564",
   "metadata": {},
   "source": [
    "2.we read in the datasets\n"
   ]
  },
  {
   "cell_type": "code",
   "execution_count": 3,
   "id": "e186f15c",
   "metadata": {},
   "outputs": [],
   "source": [
    "users = pd.read_csv('JD_user_data.csv')\n",
    "orders = pd.read_csv('JD_order_data.csv')\n",
    "#users and orders are now dataframes of panda"
   ]
  },
  {
   "cell_type": "code",
   "execution_count": 4,
   "id": "1648f147",
   "metadata": {},
   "outputs": [
    {
     "data": {
      "text/plain": [
       "pandas.core.frame.DataFrame"
      ]
     },
     "execution_count": 4,
     "metadata": {},
     "output_type": "execute_result"
    }
   ],
   "source": [
    "type(users)"
   ]
  },
  {
   "cell_type": "markdown",
   "id": "03231875",
   "metadata": {},
   "source": [
    "3.take a look at the data\n"
   ]
  },
  {
   "cell_type": "code",
   "execution_count": 5,
   "id": "4aab5cad",
   "metadata": {},
   "outputs": [
    {
     "data": {
      "text/html": [
       "<div>\n",
       "<style scoped>\n",
       "    .dataframe tbody tr th:only-of-type {\n",
       "        vertical-align: middle;\n",
       "    }\n",
       "\n",
       "    .dataframe tbody tr th {\n",
       "        vertical-align: top;\n",
       "    }\n",
       "\n",
       "    .dataframe thead th {\n",
       "        text-align: right;\n",
       "    }\n",
       "</style>\n",
       "<table border=\"1\" class=\"dataframe\">\n",
       "  <thead>\n",
       "    <tr style=\"text-align: right;\">\n",
       "      <th></th>\n",
       "      <th>user_ID</th>\n",
       "      <th>user_level</th>\n",
       "      <th>first_order_month</th>\n",
       "      <th>plus</th>\n",
       "      <th>gender</th>\n",
       "      <th>age</th>\n",
       "      <th>marital_status</th>\n",
       "      <th>education</th>\n",
       "      <th>city_level</th>\n",
       "      <th>purchase_power</th>\n",
       "    </tr>\n",
       "  </thead>\n",
       "  <tbody>\n",
       "    <tr>\n",
       "      <th>0</th>\n",
       "      <td>000089d6a6</td>\n",
       "      <td>1</td>\n",
       "      <td>2017-08</td>\n",
       "      <td>0</td>\n",
       "      <td>F</td>\n",
       "      <td>26-35</td>\n",
       "      <td>S</td>\n",
       "      <td>3</td>\n",
       "      <td>4</td>\n",
       "      <td>3</td>\n",
       "    </tr>\n",
       "    <tr>\n",
       "      <th>1</th>\n",
       "      <td>0000babd1f</td>\n",
       "      <td>1</td>\n",
       "      <td>2018-03</td>\n",
       "      <td>0</td>\n",
       "      <td>U</td>\n",
       "      <td>U</td>\n",
       "      <td>U</td>\n",
       "      <td>-1</td>\n",
       "      <td>-1</td>\n",
       "      <td>-1</td>\n",
       "    </tr>\n",
       "    <tr>\n",
       "      <th>2</th>\n",
       "      <td>0000bc018b</td>\n",
       "      <td>3</td>\n",
       "      <td>2016-06</td>\n",
       "      <td>0</td>\n",
       "      <td>F</td>\n",
       "      <td>&gt;=56</td>\n",
       "      <td>M</td>\n",
       "      <td>3</td>\n",
       "      <td>2</td>\n",
       "      <td>3</td>\n",
       "    </tr>\n",
       "    <tr>\n",
       "      <th>3</th>\n",
       "      <td>0000d0e5ab</td>\n",
       "      <td>3</td>\n",
       "      <td>2014-06</td>\n",
       "      <td>0</td>\n",
       "      <td>M</td>\n",
       "      <td>26-35</td>\n",
       "      <td>M</td>\n",
       "      <td>3</td>\n",
       "      <td>2</td>\n",
       "      <td>2</td>\n",
       "    </tr>\n",
       "    <tr>\n",
       "      <th>4</th>\n",
       "      <td>0000dce472</td>\n",
       "      <td>3</td>\n",
       "      <td>2012-08</td>\n",
       "      <td>1</td>\n",
       "      <td>U</td>\n",
       "      <td>U</td>\n",
       "      <td>U</td>\n",
       "      <td>-1</td>\n",
       "      <td>-1</td>\n",
       "      <td>-1</td>\n",
       "    </tr>\n",
       "    <tr>\n",
       "      <th>5</th>\n",
       "      <td>0000f81d1b</td>\n",
       "      <td>1</td>\n",
       "      <td>2018-02</td>\n",
       "      <td>0</td>\n",
       "      <td>F</td>\n",
       "      <td>26-35</td>\n",
       "      <td>M</td>\n",
       "      <td>2</td>\n",
       "      <td>3</td>\n",
       "      <td>2</td>\n",
       "    </tr>\n",
       "    <tr>\n",
       "      <th>6</th>\n",
       "      <td>00012bb423</td>\n",
       "      <td>4</td>\n",
       "      <td>2008-11</td>\n",
       "      <td>1</td>\n",
       "      <td>F</td>\n",
       "      <td>26-35</td>\n",
       "      <td>M</td>\n",
       "      <td>4</td>\n",
       "      <td>1</td>\n",
       "      <td>2</td>\n",
       "    </tr>\n",
       "    <tr>\n",
       "      <th>7</th>\n",
       "      <td>00015ff032</td>\n",
       "      <td>3</td>\n",
       "      <td>2015-06</td>\n",
       "      <td>1</td>\n",
       "      <td>M</td>\n",
       "      <td>26-35</td>\n",
       "      <td>M</td>\n",
       "      <td>3</td>\n",
       "      <td>4</td>\n",
       "      <td>1</td>\n",
       "    </tr>\n",
       "    <tr>\n",
       "      <th>8</th>\n",
       "      <td>0001aa7059</td>\n",
       "      <td>4</td>\n",
       "      <td>2014-06</td>\n",
       "      <td>0</td>\n",
       "      <td>F</td>\n",
       "      <td>36-45</td>\n",
       "      <td>M</td>\n",
       "      <td>3</td>\n",
       "      <td>4</td>\n",
       "      <td>2</td>\n",
       "    </tr>\n",
       "    <tr>\n",
       "      <th>9</th>\n",
       "      <td>0001bbdc89</td>\n",
       "      <td>2</td>\n",
       "      <td>2017-12</td>\n",
       "      <td>0</td>\n",
       "      <td>F</td>\n",
       "      <td>16-25</td>\n",
       "      <td>S</td>\n",
       "      <td>3</td>\n",
       "      <td>2</td>\n",
       "      <td>2</td>\n",
       "    </tr>\n",
       "  </tbody>\n",
       "</table>\n",
       "</div>"
      ],
      "text/plain": [
       "      user_ID  user_level first_order_month  plus gender    age  \\\n",
       "0  000089d6a6           1           2017-08     0      F  26-35   \n",
       "1  0000babd1f           1           2018-03     0      U      U   \n",
       "2  0000bc018b           3           2016-06     0      F   >=56   \n",
       "3  0000d0e5ab           3           2014-06     0      M  26-35   \n",
       "4  0000dce472           3           2012-08     1      U      U   \n",
       "5  0000f81d1b           1           2018-02     0      F  26-35   \n",
       "6  00012bb423           4           2008-11     1      F  26-35   \n",
       "7  00015ff032           3           2015-06     1      M  26-35   \n",
       "8  0001aa7059           4           2014-06     0      F  36-45   \n",
       "9  0001bbdc89           2           2017-12     0      F  16-25   \n",
       "\n",
       "  marital_status  education  city_level  purchase_power  \n",
       "0              S          3           4               3  \n",
       "1              U         -1          -1              -1  \n",
       "2              M          3           2               3  \n",
       "3              M          3           2               2  \n",
       "4              U         -1          -1              -1  \n",
       "5              M          2           3               2  \n",
       "6              M          4           1               2  \n",
       "7              M          3           4               1  \n",
       "8              M          3           4               2  \n",
       "9              S          3           2               2  "
      ]
     },
     "execution_count": 5,
     "metadata": {},
     "output_type": "execute_result"
    },
    {
     "data": {
      "text/html": [
       "<div>\n",
       "<style scoped>\n",
       "    .dataframe tbody tr th:only-of-type {\n",
       "        vertical-align: middle;\n",
       "    }\n",
       "\n",
       "    .dataframe tbody tr th {\n",
       "        vertical-align: top;\n",
       "    }\n",
       "\n",
       "    .dataframe thead th {\n",
       "        text-align: right;\n",
       "    }\n",
       "</style>\n",
       "<table border=\"1\" class=\"dataframe\">\n",
       "  <thead>\n",
       "    <tr style=\"text-align: right;\">\n",
       "      <th></th>\n",
       "      <th>order_ID</th>\n",
       "      <th>user_ID</th>\n",
       "      <th>sku_ID</th>\n",
       "      <th>order_date</th>\n",
       "      <th>order_time</th>\n",
       "      <th>quantity</th>\n",
       "      <th>type</th>\n",
       "      <th>promise</th>\n",
       "      <th>original_unit_price</th>\n",
       "      <th>final_unit_price</th>\n",
       "      <th>direct_discount_per_unit</th>\n",
       "      <th>quantity_discount_per_unit</th>\n",
       "      <th>bundle_discount_per_unit</th>\n",
       "      <th>coupon_discount_per_unit</th>\n",
       "      <th>gift_item</th>\n",
       "      <th>dc_ori</th>\n",
       "      <th>dc_des</th>\n",
       "    </tr>\n",
       "  </thead>\n",
       "  <tbody>\n",
       "    <tr>\n",
       "      <th>0</th>\n",
       "      <td>d0cf5cc6db</td>\n",
       "      <td>0abe9ef2ce</td>\n",
       "      <td>581d5b54c1</td>\n",
       "      <td>2018-03-01</td>\n",
       "      <td>2018-03-01 17:14:25.0</td>\n",
       "      <td>1</td>\n",
       "      <td>2</td>\n",
       "      <td>-</td>\n",
       "      <td>89.0</td>\n",
       "      <td>79.0</td>\n",
       "      <td>0.0</td>\n",
       "      <td>10.0</td>\n",
       "      <td>0.0</td>\n",
       "      <td>0.0</td>\n",
       "      <td>0</td>\n",
       "      <td>4</td>\n",
       "      <td>28</td>\n",
       "    </tr>\n",
       "    <tr>\n",
       "      <th>1</th>\n",
       "      <td>7444318d01</td>\n",
       "      <td>33a9e56257</td>\n",
       "      <td>067b673f2b</td>\n",
       "      <td>2018-03-01</td>\n",
       "      <td>2018-03-01 11:10:40.0</td>\n",
       "      <td>1</td>\n",
       "      <td>1</td>\n",
       "      <td>2</td>\n",
       "      <td>99.9</td>\n",
       "      <td>53.9</td>\n",
       "      <td>5.0</td>\n",
       "      <td>41.0</td>\n",
       "      <td>0.0</td>\n",
       "      <td>0.0</td>\n",
       "      <td>0</td>\n",
       "      <td>28</td>\n",
       "      <td>28</td>\n",
       "    </tr>\n",
       "    <tr>\n",
       "      <th>2</th>\n",
       "      <td>f973b01694</td>\n",
       "      <td>4ea3cf408f</td>\n",
       "      <td>623d0a582a</td>\n",
       "      <td>2018-03-01</td>\n",
       "      <td>2018-03-01 09:13:26.0</td>\n",
       "      <td>1</td>\n",
       "      <td>1</td>\n",
       "      <td>2</td>\n",
       "      <td>78.0</td>\n",
       "      <td>58.5</td>\n",
       "      <td>19.5</td>\n",
       "      <td>0.0</td>\n",
       "      <td>0.0</td>\n",
       "      <td>0.0</td>\n",
       "      <td>0</td>\n",
       "      <td>28</td>\n",
       "      <td>28</td>\n",
       "    </tr>\n",
       "    <tr>\n",
       "      <th>3</th>\n",
       "      <td>8c1cec8d4b</td>\n",
       "      <td>b87cb736cb</td>\n",
       "      <td>fc5289b139</td>\n",
       "      <td>2018-03-01</td>\n",
       "      <td>2018-03-01 21:29:50.0</td>\n",
       "      <td>1</td>\n",
       "      <td>1</td>\n",
       "      <td>2</td>\n",
       "      <td>61.0</td>\n",
       "      <td>35.0</td>\n",
       "      <td>0.0</td>\n",
       "      <td>26.0</td>\n",
       "      <td>0.0</td>\n",
       "      <td>0.0</td>\n",
       "      <td>0</td>\n",
       "      <td>4</td>\n",
       "      <td>28</td>\n",
       "    </tr>\n",
       "    <tr>\n",
       "      <th>4</th>\n",
       "      <td>d43a33c38a</td>\n",
       "      <td>4829223b6f</td>\n",
       "      <td>623d0a582a</td>\n",
       "      <td>2018-03-01</td>\n",
       "      <td>2018-03-01 19:13:37.0</td>\n",
       "      <td>1</td>\n",
       "      <td>1</td>\n",
       "      <td>1</td>\n",
       "      <td>78.0</td>\n",
       "      <td>53.0</td>\n",
       "      <td>19.0</td>\n",
       "      <td>0.0</td>\n",
       "      <td>0.0</td>\n",
       "      <td>6.0</td>\n",
       "      <td>0</td>\n",
       "      <td>3</td>\n",
       "      <td>16</td>\n",
       "    </tr>\n",
       "  </tbody>\n",
       "</table>\n",
       "</div>"
      ],
      "text/plain": [
       "     order_ID     user_ID      sku_ID  order_date             order_time  \\\n",
       "0  d0cf5cc6db  0abe9ef2ce  581d5b54c1  2018-03-01  2018-03-01 17:14:25.0   \n",
       "1  7444318d01  33a9e56257  067b673f2b  2018-03-01  2018-03-01 11:10:40.0   \n",
       "2  f973b01694  4ea3cf408f  623d0a582a  2018-03-01  2018-03-01 09:13:26.0   \n",
       "3  8c1cec8d4b  b87cb736cb  fc5289b139  2018-03-01  2018-03-01 21:29:50.0   \n",
       "4  d43a33c38a  4829223b6f  623d0a582a  2018-03-01  2018-03-01 19:13:37.0   \n",
       "\n",
       "   quantity  type promise  original_unit_price  final_unit_price  \\\n",
       "0         1     2       -                 89.0              79.0   \n",
       "1         1     1       2                 99.9              53.9   \n",
       "2         1     1       2                 78.0              58.5   \n",
       "3         1     1       2                 61.0              35.0   \n",
       "4         1     1       1                 78.0              53.0   \n",
       "\n",
       "   direct_discount_per_unit  quantity_discount_per_unit  \\\n",
       "0                       0.0                        10.0   \n",
       "1                       5.0                        41.0   \n",
       "2                      19.5                         0.0   \n",
       "3                       0.0                        26.0   \n",
       "4                      19.0                         0.0   \n",
       "\n",
       "   bundle_discount_per_unit  coupon_discount_per_unit  gift_item  dc_ori  \\\n",
       "0                       0.0                       0.0          0       4   \n",
       "1                       0.0                       0.0          0      28   \n",
       "2                       0.0                       0.0          0      28   \n",
       "3                       0.0                       0.0          0       4   \n",
       "4                       0.0                       6.0          0       3   \n",
       "\n",
       "   dc_des  \n",
       "0      28  \n",
       "1      28  \n",
       "2      28  \n",
       "3      28  \n",
       "4      16  "
      ]
     },
     "execution_count": 5,
     "metadata": {},
     "output_type": "execute_result"
    }
   ],
   "source": [
    "users.head(10)\n",
    "orders.head()\n",
    "#the number argument specifies the number of rows to show\n",
    "#the head() displays the csv file"
   ]
  },
  {
   "cell_type": "code",
   "execution_count": 6,
   "id": "22e453b0",
   "metadata": {},
   "outputs": [
    {
     "data": {
      "text/plain": [
       "Index(['user_ID', 'user_level', 'first_order_month', 'plus', 'gender', 'age',\n",
       "       'marital_status', 'education', 'city_level', 'purchase_power'],\n",
       "      dtype='object')"
      ]
     },
     "execution_count": 6,
     "metadata": {},
     "output_type": "execute_result"
    }
   ],
   "source": [
    "users.columns\n",
    "#displays variables of the dataframe"
   ]
  },
  {
   "cell_type": "code",
   "execution_count": 7,
   "id": "e820109f",
   "metadata": {},
   "outputs": [
    {
     "data": {
      "text/plain": [
       "gender\n",
       "F    292897\n",
       "M    107084\n",
       "U     57317\n",
       "Name: count, dtype: int64"
      ]
     },
     "execution_count": 7,
     "metadata": {},
     "output_type": "execute_result"
    }
   ],
   "source": [
    "#lets. explore the gender variable in users\n",
    "users['gender'].value_counts()\n",
    "#value_counts() gives the frequency distribution"
   ]
  },
  {
   "cell_type": "code",
   "execution_count": 8,
   "id": "b563788c",
   "metadata": {},
   "outputs": [
    {
     "data": {
      "text/plain": [
       "<Axes: xlabel='gender'>"
      ]
     },
     "execution_count": 8,
     "metadata": {},
     "output_type": "execute_result"
    },
    {
     "data": {
      "image/png": "[encoded data removed]",
      "text/plain": [
       "<Figure size 640x480 with 1 Axes>"
      ]
     },
     "metadata": {},
     "output_type": "display_data"
    }
   ],
   "source": [
    "#make a bar chart for the frequency distribution\n",
    "users['gender'].value_counts().plot(kind ='bar')"
   ]
  },
  {
   "cell_type": "code",
   "execution_count": 9,
   "id": "c8bb3c1f",
   "metadata": {},
   "outputs": [
    {
     "data": {
      "text/plain": [
       "age\n",
       "26-35    183239\n",
       "16-25    103306\n",
       "36-45     81076\n",
       "U         56457\n",
       "46-55     18679\n",
       ">=56      14517\n",
       "<=15         24\n",
       "Name: count, dtype: int64"
      ]
     },
     "execution_count": 9,
     "metadata": {},
     "output_type": "execute_result"
    }
   ],
   "source": [
    "#exercise :explore the age\n",
    "users['age'].value_counts()"
   ]
  },
  {
   "cell_type": "code",
   "execution_count": 10,
   "id": "adf6bbe5",
   "metadata": {},
   "outputs": [
    {
     "data": {
      "text/plain": [
       "<Axes: xlabel='age'>"
      ]
     },
     "execution_count": 10,
     "metadata": {},
     "output_type": "execute_result"
    },
    {
     "data": {
      "image/png": "[encoded data removed]",
      "text/plain": [
       "<Figure size 640x480 with 1 Axes>"
      ]
     },
     "metadata": {},
     "output_type": "display_data"
    }
   ],
   "source": [
    "users['age'].value_counts().plot(kind ='bar')"
   ]
  },
  {
   "cell_type": "code",
   "execution_count": 11,
   "id": "caa89508",
   "metadata": {},
   "outputs": [],
   "source": [
    "import seaborn as sn"
   ]
  },
  {
   "cell_type": "code",
   "execution_count": 12,
   "id": "eae91d5c",
   "metadata": {},
   "outputs": [],
   "source": [
    "import matplotlib.pyplot as plt"
   ]
  },
  {
   "cell_type": "code",
   "execution_count": 13,
   "id": "cd8ff961",
   "metadata": {},
   "outputs": [
    {
     "data": {
      "text/plain": [
       "pandas.core.series.Series"
      ]
     },
     "execution_count": 13,
     "metadata": {},
     "output_type": "execute_result"
    }
   ],
   "source": [
    "age_dis = users['age'].value_counts()\n",
    "type(age_dis)"
   ]
  },
  {
   "cell_type": "code",
   "execution_count": 14,
   "id": "1e25968e",
   "metadata": {},
   "outputs": [
    {
     "data": {
      "text/plain": [
       "age\n",
       "26-35    183239\n",
       "16-25    103306\n",
       "36-45     81076\n",
       "U         56457\n",
       "46-55     18679\n",
       ">=56      14517\n",
       "<=15         24\n",
       "Name: count, dtype: int64"
      ]
     },
     "execution_count": 14,
     "metadata": {},
     "output_type": "execute_result"
    }
   ],
   "source": [
    "age_dis\n"
   ]
  },
  {
   "cell_type": "code",
   "execution_count": 15,
   "id": "dc41d6a3",
   "metadata": {},
   "outputs": [
    {
     "data": {
      "text/plain": [
       "Index(['26-35', '16-25', '36-45', 'U', '46-55', '>=56', '<=15'], dtype='object', name='age')"
      ]
     },
     "execution_count": 15,
     "metadata": {},
     "output_type": "execute_result"
    }
   ],
   "source": [
    "age_dis.index\n"
   ]
  },
  {
   "cell_type": "code",
   "execution_count": 16,
   "id": "09b7d2e5",
   "metadata": {},
   "outputs": [
    {
     "data": {
      "text/plain": [
       "array([183239, 103306,  81076,  56457,  18679,  14517,     24])"
      ]
     },
     "execution_count": 16,
     "metadata": {},
     "output_type": "execute_result"
    }
   ],
   "source": [
    "age_dis.values"
   ]
  },
  {
   "cell_type": "code",
   "execution_count": 17,
   "id": "9ad55cde",
   "metadata": {},
   "outputs": [
    {
     "data": {
      "text/plain": [
       "<BarContainer object of 7 artists>"
      ]
     },
     "execution_count": 17,
     "metadata": {},
     "output_type": "execute_result"
    },
    {
     "data": {
      "text/plain": [
       "Text(0.5, 0, 'age')"
      ]
     },
     "execution_count": 17,
     "metadata": {},
     "output_type": "execute_result"
    },
    {
     "data": {
      "text/plain": [
       "Text(0, 0.5, 'total number of cutomers')"
      ]
     },
     "execution_count": 17,
     "metadata": {},
     "output_type": "execute_result"
    },
    {
     "data": {
      "text/plain": [
       "Text(0.5, 1.0, 'Bar Graph with More Details')"
      ]
     },
     "execution_count": 17,
     "metadata": {},
     "output_type": "execute_result"
    },
    {
     "data": {
      "image/png": "[encoded data removed]",
      "text/plain": [
       "<Figure size 640x480 with 1 Axes>"
      ]
     },
     "metadata": {},
     "output_type": "display_data"
    }
   ],
   "source": [
    "custom_colors = ['lightgreen', 'mediumseagreen', 'green', 'darkgreen']\n",
    "plt.bar(age_dis.index,age_dis.values,color=custom_colors)\n",
    "\n",
    "# Adding axis labels and a title\n",
    "plt.xlabel('age')\n",
    "plt.ylabel('total number of cutomers')\n",
    "plt.title('Bar Graph with More Details')\n",
    "\n",
    "# Show the plot\n",
    "plt.show()\n"
   ]
  },
  {
   "cell_type": "markdown",
   "id": "aaf6c500",
   "metadata": {},
   "source": [
    "#explore a single interval variable"
   ]
  },
  {
   "cell_type": "code",
   "execution_count": 18,
   "id": "1a47eb67",
   "metadata": {
    "scrolled": true
   },
   "outputs": [
    {
     "data": {
      "text/plain": [
       "Index(['order_ID', 'user_ID', 'sku_ID', 'order_date', 'order_time', 'quantity',\n",
       "       'type', 'promise', 'original_unit_price', 'final_unit_price',\n",
       "       'direct_discount_per_unit', 'quantity_discount_per_unit',\n",
       "       'bundle_discount_per_unit', 'coupon_discount_per_unit', 'gift_item',\n",
       "       'dc_ori', 'dc_des'],\n",
       "      dtype='object')"
      ]
     },
     "execution_count": 18,
     "metadata": {},
     "output_type": "execute_result"
    }
   ],
   "source": [
    "orders.columns"
   ]
  },
  {
   "cell_type": "code",
   "execution_count": 19,
   "id": "7b1f0795",
   "metadata": {},
   "outputs": [
    {
     "data": {
      "text/plain": [
       "count    549989.000000\n",
       "mean        102.813542\n",
       "std          95.035563\n",
       "min           0.000000\n",
       "25%          59.000000\n",
       "50%          79.000000\n",
       "75%         139.000000\n",
       "max       12158.000000\n",
       "Name: original_unit_price, dtype: float64"
      ]
     },
     "execution_count": 19,
     "metadata": {},
     "output_type": "execute_result"
    }
   ],
   "source": [
    "orders['original_unit_price'].describe()"
   ]
  },
  {
   "cell_type": "code",
   "execution_count": 20,
   "id": "ba38a0a6",
   "metadata": {},
   "outputs": [],
   "source": [
    "import numpy as np"
   ]
  },
  {
   "cell_type": "code",
   "execution_count": 21,
   "id": "029c3ce2",
   "metadata": {},
   "outputs": [
    {
     "data": {
      "text/plain": [
       "9031.741770288845"
      ]
     },
     "execution_count": 21,
     "metadata": {},
     "output_type": "execute_result"
    }
   ],
   "source": [
    "np.var(orders['original_unit_price'])"
   ]
  },
  {
   "cell_type": "code",
   "execution_count": 22,
   "id": "ab51d68a",
   "metadata": {},
   "outputs": [
    {
     "data": {
      "text/plain": [
       "240.0"
      ]
     },
     "execution_count": 22,
     "metadata": {},
     "output_type": "execute_result"
    }
   ],
   "source": [
    "np.percentile(orders['original_unit_price'], 90)\n",
    "#90 % qunatile"
   ]
  },
  {
   "cell_type": "code",
   "execution_count": 23,
   "id": "68c244ff",
   "metadata": {},
   "outputs": [
    {
     "data": {
      "text/html": [
       "<div>\n",
       "<style scoped>\n",
       "    .dataframe tbody tr th:only-of-type {\n",
       "        vertical-align: middle;\n",
       "    }\n",
       "\n",
       "    .dataframe tbody tr th {\n",
       "        vertical-align: top;\n",
       "    }\n",
       "\n",
       "    .dataframe thead th {\n",
       "        text-align: right;\n",
       "    }\n",
       "</style>\n",
       "<table border=\"1\" class=\"dataframe\">\n",
       "  <thead>\n",
       "    <tr style=\"text-align: right;\">\n",
       "      <th></th>\n",
       "      <th>order_ID</th>\n",
       "      <th>user_ID</th>\n",
       "      <th>sku_ID</th>\n",
       "      <th>order_date</th>\n",
       "      <th>order_time</th>\n",
       "      <th>quantity</th>\n",
       "      <th>type</th>\n",
       "      <th>promise</th>\n",
       "      <th>original_unit_price</th>\n",
       "      <th>final_unit_price</th>\n",
       "      <th>direct_discount_per_unit</th>\n",
       "      <th>quantity_discount_per_unit</th>\n",
       "      <th>bundle_discount_per_unit</th>\n",
       "      <th>coupon_discount_per_unit</th>\n",
       "      <th>gift_item</th>\n",
       "      <th>dc_ori</th>\n",
       "      <th>dc_des</th>\n",
       "    </tr>\n",
       "  </thead>\n",
       "  <tbody>\n",
       "    <tr>\n",
       "      <th>52720</th>\n",
       "      <td>a63239c796</td>\n",
       "      <td>b695af3c92</td>\n",
       "      <td>1904d943c0</td>\n",
       "      <td>2018-03-03</td>\n",
       "      <td>2018-03-03 14:56:01.0</td>\n",
       "      <td>1</td>\n",
       "      <td>2</td>\n",
       "      <td>-</td>\n",
       "      <td>12158.0</td>\n",
       "      <td>12158.0</td>\n",
       "      <td>0.0</td>\n",
       "      <td>0.0</td>\n",
       "      <td>0.0</td>\n",
       "      <td>0.0</td>\n",
       "      <td>0</td>\n",
       "      <td>9</td>\n",
       "      <td>32</td>\n",
       "    </tr>\n",
       "  </tbody>\n",
       "</table>\n",
       "</div>"
      ],
      "text/plain": [
       "         order_ID     user_ID      sku_ID  order_date             order_time  \\\n",
       "52720  a63239c796  b695af3c92  1904d943c0  2018-03-03  2018-03-03 14:56:01.0   \n",
       "\n",
       "       quantity  type promise  original_unit_price  final_unit_price  \\\n",
       "52720         1     2       -              12158.0           12158.0   \n",
       "\n",
       "       direct_discount_per_unit  quantity_discount_per_unit  \\\n",
       "52720                       0.0                         0.0   \n",
       "\n",
       "       bundle_discount_per_unit  coupon_discount_per_unit  gift_item  dc_ori  \\\n",
       "52720                       0.0                       0.0          0       9   \n",
       "\n",
       "       dc_des  \n",
       "52720      32  "
      ]
     },
     "execution_count": 23,
     "metadata": {},
     "output_type": "execute_result"
    }
   ],
   "source": [
    "# find the records with the maximumprice\n",
    "#the max price is a outilier\n",
    "orders[orders['original_unit_price']==12158]\n",
    "#we use the comparison to slice the original dataset"
   ]
  },
  {
   "cell_type": "code",
   "execution_count": 24,
   "id": "93347b55",
   "metadata": {},
   "outputs": [
    {
     "data": {
      "text/plain": [
       "(array([5.49971e+05, 5.00000e+00, 2.00000e+00, 1.00000e+00, 2.00000e+00,\n",
       "        2.00000e+00, 2.00000e+00, 0.00000e+00, 1.00000e+00, 3.00000e+00]),\n",
       " array([    0. ,  1215.8,  2431.6,  3647.4,  4863.2,  6079. ,  7294.8,\n",
       "         8510.6,  9726.4, 10942.2, 12158. ]),\n",
       " <BarContainer object of 10 artists>)"
      ]
     },
     "execution_count": 24,
     "metadata": {},
     "output_type": "execute_result"
    },
    {
     "data": {
      "image/png": "[encoded data removed]",
      "text/plain": [
       "<Figure size 640x480 with 1 Axes>"
      ]
     },
     "metadata": {},
     "output_type": "display_data"
    }
   ],
   "source": [
    "#a histogram to explore continuous distribution of interval vraibale original price\n",
    "plt.hist(orders['original_unit_price'])\n",
    "#the results are strongle idintified b the maximum value"
   ]
  },
  {
   "cell_type": "code",
   "execution_count": 25,
   "id": "0ca8ad3f",
   "metadata": {},
   "outputs": [],
   "source": [
    "# delete the maximum record\n",
    "orders = orders[orders['original_unit_price'] != 12158]"
   ]
  },
  {
   "cell_type": "code",
   "execution_count": 26,
   "id": "94e38219",
   "metadata": {},
   "outputs": [
    {
     "data": {
      "text/plain": [
       "(array([5.49965e+05, 1.10000e+01, 2.00000e+00, 0.00000e+00, 1.00000e+00,\n",
       "        2.00000e+00, 3.00000e+00, 1.00000e+00, 0.00000e+00, 3.00000e+00]),\n",
       " array([    0. ,  1104.6,  2209.2,  3313.8,  4418.4,  5523. ,  6627.6,\n",
       "         7732.2,  8836.8,  9941.4, 11046. ]),\n",
       " <BarContainer object of 10 artists>)"
      ]
     },
     "execution_count": 26,
     "metadata": {},
     "output_type": "execute_result"
    },
    {
     "data": {
      "image/png": "[encoded data removed]",
      "text/plain": [
       "<Figure size 640x480 with 1 Axes>"
      ]
     },
     "metadata": {},
     "output_type": "display_data"
    }
   ],
   "source": [
    "# The histogram again\n",
    "plt.hist(orders['original_unit_price'])"
   ]
  },
  {
   "cell_type": "code",
   "execution_count": 27,
   "id": "786d9310",
   "metadata": {},
   "outputs": [
    {
     "data": {
      "text/plain": [
       "336.0"
      ]
     },
     "execution_count": 27,
     "metadata": {},
     "output_type": "execute_result"
    }
   ],
   "source": [
    "orders['original_unit_price'].quantile(0.99)\n",
    "#this shows 99% of values are within 336 balance 1% is above that"
   ]
  },
  {
   "cell_type": "code",
   "execution_count": 28,
   "id": "4b2d8686",
   "metadata": {},
   "outputs": [
    {
     "data": {
      "text/plain": [
       "738.0"
      ]
     },
     "execution_count": 28,
     "metadata": {},
     "output_type": "execute_result"
    }
   ],
   "source": [
    "orders['original_unit_price'].quantile(0.9999)"
   ]
  },
  {
   "cell_type": "code",
   "execution_count": 29,
   "id": "94a8ca0b",
   "metadata": {},
   "outputs": [
    {
     "data": {
      "text/plain": [
       "102.7916229960169"
      ]
     },
     "execution_count": 29,
     "metadata": {},
     "output_type": "execute_result"
    }
   ],
   "source": [
    "orders['original_unit_price'].mean()\n"
   ]
  },
  {
   "cell_type": "code",
   "execution_count": 30,
   "id": "2e50a953",
   "metadata": {},
   "outputs": [
    {
     "data": {
      "text/plain": [
       "93.63512178744664"
      ]
     },
     "execution_count": 30,
     "metadata": {},
     "output_type": "execute_result"
    }
   ],
   "source": [
    "orders['original_unit_price'].std()"
   ]
  },
  {
   "cell_type": "code",
   "execution_count": 31,
   "id": "435b77b8",
   "metadata": {},
   "outputs": [],
   "source": [
    "out_up=orders['original_unit_price'].mean()+3* orders['original_unit_price'].std()\n"
   ]
  },
  {
   "cell_type": "code",
   "execution_count": 32,
   "id": "6be689e0",
   "metadata": {},
   "outputs": [
    {
     "name": "stdout",
     "output_type": "stream",
     "text": [
      "383.6969883583568\n"
     ]
    }
   ],
   "source": [
    "print(out_up)"
   ]
  },
  {
   "cell_type": "code",
   "execution_count": 33,
   "id": "7ffef81b",
   "metadata": {},
   "outputs": [],
   "source": [
    "normal_price =orders[orders['original_unit_price']<388]\n",
    "#by slicing anything below 388 will return true and it will keep the record and deleted others or above"
   ]
  },
  {
   "cell_type": "code",
   "execution_count": 34,
   "id": "414b604c",
   "metadata": {},
   "outputs": [
    {
     "data": {
      "text/html": [
       "<div>\n",
       "<style scoped>\n",
       "    .dataframe tbody tr th:only-of-type {\n",
       "        vertical-align: middle;\n",
       "    }\n",
       "\n",
       "    .dataframe tbody tr th {\n",
       "        vertical-align: top;\n",
       "    }\n",
       "\n",
       "    .dataframe thead th {\n",
       "        text-align: right;\n",
       "    }\n",
       "</style>\n",
       "<table border=\"1\" class=\"dataframe\">\n",
       "  <thead>\n",
       "    <tr style=\"text-align: right;\">\n",
       "      <th></th>\n",
       "      <th>order_ID</th>\n",
       "      <th>user_ID</th>\n",
       "      <th>sku_ID</th>\n",
       "      <th>order_date</th>\n",
       "      <th>order_time</th>\n",
       "      <th>quantity</th>\n",
       "      <th>type</th>\n",
       "      <th>promise</th>\n",
       "      <th>original_unit_price</th>\n",
       "      <th>final_unit_price</th>\n",
       "      <th>direct_discount_per_unit</th>\n",
       "      <th>quantity_discount_per_unit</th>\n",
       "      <th>bundle_discount_per_unit</th>\n",
       "      <th>coupon_discount_per_unit</th>\n",
       "      <th>gift_item</th>\n",
       "      <th>dc_ori</th>\n",
       "      <th>dc_des</th>\n",
       "    </tr>\n",
       "  </thead>\n",
       "  <tbody>\n",
       "    <tr>\n",
       "      <th>0</th>\n",
       "      <td>d0cf5cc6db</td>\n",
       "      <td>0abe9ef2ce</td>\n",
       "      <td>581d5b54c1</td>\n",
       "      <td>2018-03-01</td>\n",
       "      <td>2018-03-01 17:14:25.0</td>\n",
       "      <td>1</td>\n",
       "      <td>2</td>\n",
       "      <td>-</td>\n",
       "      <td>89.0</td>\n",
       "      <td>79.0</td>\n",
       "      <td>0.0</td>\n",
       "      <td>10.0</td>\n",
       "      <td>0.0</td>\n",
       "      <td>0.0</td>\n",
       "      <td>0</td>\n",
       "      <td>4</td>\n",
       "      <td>28</td>\n",
       "    </tr>\n",
       "    <tr>\n",
       "      <th>1</th>\n",
       "      <td>7444318d01</td>\n",
       "      <td>33a9e56257</td>\n",
       "      <td>067b673f2b</td>\n",
       "      <td>2018-03-01</td>\n",
       "      <td>2018-03-01 11:10:40.0</td>\n",
       "      <td>1</td>\n",
       "      <td>1</td>\n",
       "      <td>2</td>\n",
       "      <td>99.9</td>\n",
       "      <td>53.9</td>\n",
       "      <td>5.0</td>\n",
       "      <td>41.0</td>\n",
       "      <td>0.0</td>\n",
       "      <td>0.0</td>\n",
       "      <td>0</td>\n",
       "      <td>28</td>\n",
       "      <td>28</td>\n",
       "    </tr>\n",
       "    <tr>\n",
       "      <th>2</th>\n",
       "      <td>f973b01694</td>\n",
       "      <td>4ea3cf408f</td>\n",
       "      <td>623d0a582a</td>\n",
       "      <td>2018-03-01</td>\n",
       "      <td>2018-03-01 09:13:26.0</td>\n",
       "      <td>1</td>\n",
       "      <td>1</td>\n",
       "      <td>2</td>\n",
       "      <td>78.0</td>\n",
       "      <td>58.5</td>\n",
       "      <td>19.5</td>\n",
       "      <td>0.0</td>\n",
       "      <td>0.0</td>\n",
       "      <td>0.0</td>\n",
       "      <td>0</td>\n",
       "      <td>28</td>\n",
       "      <td>28</td>\n",
       "    </tr>\n",
       "    <tr>\n",
       "      <th>3</th>\n",
       "      <td>8c1cec8d4b</td>\n",
       "      <td>b87cb736cb</td>\n",
       "      <td>fc5289b139</td>\n",
       "      <td>2018-03-01</td>\n",
       "      <td>2018-03-01 21:29:50.0</td>\n",
       "      <td>1</td>\n",
       "      <td>1</td>\n",
       "      <td>2</td>\n",
       "      <td>61.0</td>\n",
       "      <td>35.0</td>\n",
       "      <td>0.0</td>\n",
       "      <td>26.0</td>\n",
       "      <td>0.0</td>\n",
       "      <td>0.0</td>\n",
       "      <td>0</td>\n",
       "      <td>4</td>\n",
       "      <td>28</td>\n",
       "    </tr>\n",
       "    <tr>\n",
       "      <th>4</th>\n",
       "      <td>d43a33c38a</td>\n",
       "      <td>4829223b6f</td>\n",
       "      <td>623d0a582a</td>\n",
       "      <td>2018-03-01</td>\n",
       "      <td>2018-03-01 19:13:37.0</td>\n",
       "      <td>1</td>\n",
       "      <td>1</td>\n",
       "      <td>1</td>\n",
       "      <td>78.0</td>\n",
       "      <td>53.0</td>\n",
       "      <td>19.0</td>\n",
       "      <td>0.0</td>\n",
       "      <td>0.0</td>\n",
       "      <td>6.0</td>\n",
       "      <td>0</td>\n",
       "      <td>3</td>\n",
       "      <td>16</td>\n",
       "    </tr>\n",
       "    <tr>\n",
       "      <th>...</th>\n",
       "      <td>...</td>\n",
       "      <td>...</td>\n",
       "      <td>...</td>\n",
       "      <td>...</td>\n",
       "      <td>...</td>\n",
       "      <td>...</td>\n",
       "      <td>...</td>\n",
       "      <td>...</td>\n",
       "      <td>...</td>\n",
       "      <td>...</td>\n",
       "      <td>...</td>\n",
       "      <td>...</td>\n",
       "      <td>...</td>\n",
       "      <td>...</td>\n",
       "      <td>...</td>\n",
       "      <td>...</td>\n",
       "      <td>...</td>\n",
       "    </tr>\n",
       "    <tr>\n",
       "      <th>549984</th>\n",
       "      <td>3ad06b9fbe</td>\n",
       "      <td>a27b3ed4d4</td>\n",
       "      <td>a9109972d1</td>\n",
       "      <td>2018-03-31</td>\n",
       "      <td>2018-03-31 01:22:47.0</td>\n",
       "      <td>1</td>\n",
       "      <td>2</td>\n",
       "      <td>-</td>\n",
       "      <td>0.0</td>\n",
       "      <td>-1.0</td>\n",
       "      <td>0.0</td>\n",
       "      <td>0.0</td>\n",
       "      <td>0.0</td>\n",
       "      <td>1.0</td>\n",
       "      <td>1</td>\n",
       "      <td>2</td>\n",
       "      <td>2</td>\n",
       "    </tr>\n",
       "    <tr>\n",
       "      <th>549985</th>\n",
       "      <td>c9d77a7ed0</td>\n",
       "      <td>18f92434cd</td>\n",
       "      <td>7f53769d3f</td>\n",
       "      <td>2018-03-31</td>\n",
       "      <td>2018-03-31 08:55:57.0</td>\n",
       "      <td>1</td>\n",
       "      <td>1</td>\n",
       "      <td>3</td>\n",
       "      <td>118.0</td>\n",
       "      <td>55.0</td>\n",
       "      <td>63.0</td>\n",
       "      <td>0.0</td>\n",
       "      <td>0.0</td>\n",
       "      <td>0.0</td>\n",
       "      <td>0</td>\n",
       "      <td>59</td>\n",
       "      <td>2</td>\n",
       "    </tr>\n",
       "    <tr>\n",
       "      <th>549986</th>\n",
       "      <td>b9ad79338f</td>\n",
       "      <td>b5caf8a580</td>\n",
       "      <td>8dc4a01dec</td>\n",
       "      <td>2018-03-31</td>\n",
       "      <td>2018-03-31 13:31:01.0</td>\n",
       "      <td>1</td>\n",
       "      <td>1</td>\n",
       "      <td>2</td>\n",
       "      <td>78.0</td>\n",
       "      <td>78.0</td>\n",
       "      <td>0.0</td>\n",
       "      <td>0.0</td>\n",
       "      <td>0.0</td>\n",
       "      <td>0.0</td>\n",
       "      <td>0</td>\n",
       "      <td>2</td>\n",
       "      <td>2</td>\n",
       "    </tr>\n",
       "    <tr>\n",
       "      <th>549987</th>\n",
       "      <td>be3a9414b1</td>\n",
       "      <td>20ba6655f3</td>\n",
       "      <td>2dd6b818ec</td>\n",
       "      <td>2018-03-31</td>\n",
       "      <td>2018-03-31 12:51:18.0</td>\n",
       "      <td>1</td>\n",
       "      <td>2</td>\n",
       "      <td>-</td>\n",
       "      <td>189.0</td>\n",
       "      <td>78.0</td>\n",
       "      <td>111.0</td>\n",
       "      <td>0.0</td>\n",
       "      <td>0.0</td>\n",
       "      <td>0.0</td>\n",
       "      <td>0</td>\n",
       "      <td>4</td>\n",
       "      <td>28</td>\n",
       "    </tr>\n",
       "    <tr>\n",
       "      <th>549988</th>\n",
       "      <td>02d31f05c9</td>\n",
       "      <td>f260895cbe</td>\n",
       "      <td>10d369ef96</td>\n",
       "      <td>2018-03-31</td>\n",
       "      <td>2018-03-31 18:21:16.0</td>\n",
       "      <td>1</td>\n",
       "      <td>2</td>\n",
       "      <td>4</td>\n",
       "      <td>68.0</td>\n",
       "      <td>49.0</td>\n",
       "      <td>19.0</td>\n",
       "      <td>0.0</td>\n",
       "      <td>0.0</td>\n",
       "      <td>0.0</td>\n",
       "      <td>0</td>\n",
       "      <td>4</td>\n",
       "      <td>28</td>\n",
       "    </tr>\n",
       "  </tbody>\n",
       "</table>\n",
       "<p>546883 rows × 17 columns</p>\n",
       "</div>"
      ],
      "text/plain": [
       "          order_ID     user_ID      sku_ID  order_date             order_time  \\\n",
       "0       d0cf5cc6db  0abe9ef2ce  581d5b54c1  2018-03-01  2018-03-01 17:14:25.0   \n",
       "1       7444318d01  33a9e56257  067b673f2b  2018-03-01  2018-03-01 11:10:40.0   \n",
       "2       f973b01694  4ea3cf408f  623d0a582a  2018-03-01  2018-03-01 09:13:26.0   \n",
       "3       8c1cec8d4b  b87cb736cb  fc5289b139  2018-03-01  2018-03-01 21:29:50.0   \n",
       "4       d43a33c38a  4829223b6f  623d0a582a  2018-03-01  2018-03-01 19:13:37.0   \n",
       "...            ...         ...         ...         ...                    ...   \n",
       "549984  3ad06b9fbe  a27b3ed4d4  a9109972d1  2018-03-31  2018-03-31 01:22:47.0   \n",
       "549985  c9d77a7ed0  18f92434cd  7f53769d3f  2018-03-31  2018-03-31 08:55:57.0   \n",
       "549986  b9ad79338f  b5caf8a580  8dc4a01dec  2018-03-31  2018-03-31 13:31:01.0   \n",
       "549987  be3a9414b1  20ba6655f3  2dd6b818ec  2018-03-31  2018-03-31 12:51:18.0   \n",
       "549988  02d31f05c9  f260895cbe  10d369ef96  2018-03-31  2018-03-31 18:21:16.0   \n",
       "\n",
       "        quantity  type promise  original_unit_price  final_unit_price  \\\n",
       "0              1     2       -                 89.0              79.0   \n",
       "1              1     1       2                 99.9              53.9   \n",
       "2              1     1       2                 78.0              58.5   \n",
       "3              1     1       2                 61.0              35.0   \n",
       "4              1     1       1                 78.0              53.0   \n",
       "...          ...   ...     ...                  ...               ...   \n",
       "549984         1     2       -                  0.0              -1.0   \n",
       "549985         1     1       3                118.0              55.0   \n",
       "549986         1     1       2                 78.0              78.0   \n",
       "549987         1     2       -                189.0              78.0   \n",
       "549988         1     2       4                 68.0              49.0   \n",
       "\n",
       "        direct_discount_per_unit  quantity_discount_per_unit  \\\n",
       "0                            0.0                        10.0   \n",
       "1                            5.0                        41.0   \n",
       "2                           19.5                         0.0   \n",
       "3                            0.0                        26.0   \n",
       "4                           19.0                         0.0   \n",
       "...                          ...                         ...   \n",
       "549984                       0.0                         0.0   \n",
       "549985                      63.0                         0.0   \n",
       "549986                       0.0                         0.0   \n",
       "549987                     111.0                         0.0   \n",
       "549988                      19.0                         0.0   \n",
       "\n",
       "        bundle_discount_per_unit  coupon_discount_per_unit  gift_item  dc_ori  \\\n",
       "0                            0.0                       0.0          0       4   \n",
       "1                            0.0                       0.0          0      28   \n",
       "2                            0.0                       0.0          0      28   \n",
       "3                            0.0                       0.0          0       4   \n",
       "4                            0.0                       6.0          0       3   \n",
       "...                          ...                       ...        ...     ...   \n",
       "549984                       0.0                       1.0          1       2   \n",
       "549985                       0.0                       0.0          0      59   \n",
       "549986                       0.0                       0.0          0       2   \n",
       "549987                       0.0                       0.0          0       4   \n",
       "549988                       0.0                       0.0          0       4   \n",
       "\n",
       "        dc_des  \n",
       "0           28  \n",
       "1           28  \n",
       "2           28  \n",
       "3           28  \n",
       "4           16  \n",
       "...        ...  \n",
       "549984       2  \n",
       "549985       2  \n",
       "549986       2  \n",
       "549987      28  \n",
       "549988      28  \n",
       "\n",
       "[546883 rows x 17 columns]"
      ]
     },
     "execution_count": 34,
     "metadata": {},
     "output_type": "execute_result"
    }
   ],
   "source": [
    "normal_price\n"
   ]
  },
  {
   "cell_type": "code",
   "execution_count": 35,
   "id": "e864a0b4",
   "metadata": {},
   "outputs": [
    {
     "data": {
      "text/plain": [
       "(549988, 17)"
      ]
     },
     "execution_count": 35,
     "metadata": {},
     "output_type": "execute_result"
    }
   ],
   "source": [
    "orders.shape\n",
    "#before slicing the number of records"
   ]
  },
  {
   "cell_type": "code",
   "execution_count": 36,
   "id": "032658a8",
   "metadata": {},
   "outputs": [
    {
     "data": {
      "text/plain": [
       "(546883, 17)"
      ]
     },
     "execution_count": 36,
     "metadata": {},
     "output_type": "execute_result"
    }
   ],
   "source": [
    "normal_price.shape\n",
    "#after slicing"
   ]
  },
  {
   "cell_type": "code",
   "execution_count": 37,
   "id": "263e16fd",
   "metadata": {},
   "outputs": [
    {
     "data": {
      "text/plain": [
       "(array([107222., 119175., 143434.,  69727.,  35921.,  16537.,  16975.,\n",
       "         31718.,   5087.,   1087.]),\n",
       " array([  0. ,  38.5,  77. , 115.5, 154. , 192.5, 231. , 269.5, 308. ,\n",
       "        346.5, 385. ]),\n",
       " <BarContainer object of 10 artists>)"
      ]
     },
     "execution_count": 37,
     "metadata": {},
     "output_type": "execute_result"
    },
    {
     "data": {
      "image/png": "[encoded data removed]",
      "text/plain": [
       "<Figure size 640x480 with 1 Axes>"
      ]
     },
     "metadata": {},
     "output_type": "display_data"
    }
   ],
   "source": [
    "# The histogram again\n",
    "plt.hist(normal_price['original_unit_price'])"
   ]
  },
  {
   "cell_type": "code",
   "execution_count": 38,
   "id": "de388848",
   "metadata": {},
   "outputs": [
    {
     "data": {
      "text/plain": [
       "Index(['order_ID', 'user_ID', 'sku_ID', 'order_date', 'order_time', 'quantity',\n",
       "       'type', 'promise', 'original_unit_price', 'final_unit_price',\n",
       "       'direct_discount_per_unit', 'quantity_discount_per_unit',\n",
       "       'bundle_discount_per_unit', 'coupon_discount_per_unit', 'gift_item',\n",
       "       'dc_ori', 'dc_des'],\n",
       "      dtype='object')"
      ]
     },
     "execution_count": 38,
     "metadata": {},
     "output_type": "execute_result"
    }
   ],
   "source": [
    "#data explore with two interval variables\n",
    "normal_price.columns"
   ]
  },
  {
   "cell_type": "code",
   "execution_count": 39,
   "id": "409710c8",
   "metadata": {},
   "outputs": [],
   "source": [
    "import seaborn as sns"
   ]
  },
  {
   "cell_type": "code",
   "execution_count": 40,
   "id": "e895c04b",
   "metadata": {},
   "outputs": [
    {
     "data": {
      "text/plain": [
       "<matplotlib.collections.PathCollection at 0x103e25410>"
      ]
     },
     "execution_count": 40,
     "metadata": {},
     "output_type": "execute_result"
    },
    {
     "data": {
      "text/plain": [
       "<Axes: xlabel='original_unit_price', ylabel='final_unit_price'>"
      ]
     },
     "execution_count": 40,
     "metadata": {},
     "output_type": "execute_result"
    },
    {
     "data": {
      "text/plain": [
       "Text(0.5, 1.0, 'Relationship between original_price and final_Price ')"
      ]
     },
     "execution_count": 40,
     "metadata": {},
     "output_type": "execute_result"
    },
    {
     "data": {
      "text/plain": [
       "Text(0.5, 0, 'original_unit_price')"
      ]
     },
     "execution_count": 40,
     "metadata": {},
     "output_type": "execute_result"
    },
    {
     "data": {
      "text/plain": [
       "Text(0, 0.5, 'final_unit_price')"
      ]
     },
     "execution_count": 40,
     "metadata": {},
     "output_type": "execute_result"
    },
    {
     "data": {
      "image/png": "[encoded data removed]",
      "text/plain": [
       "<Figure size 640x480 with 1 Axes>"
      ]
     },
     "metadata": {},
     "output_type": "display_data"
    }
   ],
   "source": [
    "#make a scatterplot between the relationshio between original and final price\n",
    "\n",
    "plt.scatter(normal_price['original_unit_price'], normal_price['final_unit_price'])\n",
    "s\n",
    "#to show the regression line \n",
    "plt.title('Relationship between original_price and final_Price ')\n",
    "plt.xlabel('original_unit_price')\n",
    "plt.ylabel('final_unit_price')\n",
    "\n",
    "\n"
   ]
  },
  {
   "cell_type": "code",
   "execution_count": 42,
   "id": "1e209b0e",
   "metadata": {},
   "outputs": [
    {
     "data": {
      "text/plain": [
       "<Axes: title={'center': 'original_unit_price'}, xlabel='type'>"
      ]
     },
     "execution_count": 42,
     "metadata": {},
     "output_type": "execute_result"
    },
    {
     "data": {
      "image/png": "[encoded data removed]",
      "text/plain": [
       "<Figure size 640x480 with 1 Axes>"
      ]
     },
     "metadata": {},
     "output_type": "display_data"
    }
   ],
   "source": [
    "normal_price.boxplot(column='original_unit_price',by='type',grid=False)\n",
    "#price difference between products sold by jd and ither third party"
   ]
  },
  {
   "cell_type": "code",
   "execution_count": 43,
   "id": "fc45c65f",
   "metadata": {},
   "outputs": [
    {
     "data": {
      "text/plain": [
       "<Axes: xlabel='type', ylabel='original_unit_price'>"
      ]
     },
     "execution_count": 43,
     "metadata": {},
     "output_type": "execute_result"
    },
    {
     "data": {
      "image/png": "[encoded data removed]",
      "text/plain": [
       "<Figure size 640x480 with 1 Axes>"
      ]
     },
     "metadata": {},
     "output_type": "display_data"
    }
   ],
   "source": [
    "sns.boxplot(x='type',y='original_unit_price',data=normal_price)"
   ]
  },
  {
   "cell_type": "markdown",
   "id": "65ed339c",
   "metadata": {},
   "source": [
    "majority of the distribution is at lower end in boxplot type 2"
   ]
  },
  {
   "cell_type": "code",
   "execution_count": 44,
   "id": "a87c3a0e",
   "metadata": {},
   "outputs": [
    {
     "data": {
      "text/plain": [
       "<Axes: xlabel='type', ylabel='original_unit_price'>"
      ]
     },
     "execution_count": 44,
     "metadata": {},
     "output_type": "execute_result"
    },
    {
     "data": {
      "image/png": "[encoded data removed]",
      "text/plain": [
       "<Figure size 640x480 with 1 Axes>"
      ]
     },
     "metadata": {},
     "output_type": "display_data"
    }
   ],
   "source": [
    "sns.violinplot(x='type',y='original_unit_price',data=normal_price)"
   ]
  },
  {
   "cell_type": "markdown",
   "id": "c3298315",
   "metadata": {},
   "source": [
    "#white dot is the mediam majority is around the medoan "
   ]
  },
  {
   "cell_type": "code",
   "execution_count": 45,
   "id": "a90d51d2",
   "metadata": {},
   "outputs": [
    {
     "data": {
      "text/plain": [
       "array([2, 1])"
      ]
     },
     "execution_count": 45,
     "metadata": {},
     "output_type": "execute_result"
    }
   ],
   "source": [
    "normal_price['type'].unique()"
   ]
  },
  {
   "cell_type": "code",
   "execution_count": null,
   "id": "8b41682a",
   "metadata": {},
   "outputs": [],
   "source": []
  }
 ],
 "metadata": {
  "kernelspec": {
   "display_name": "Python 3 (ipykernel)",
   "language": "python",
   "name": "python3"
  },
  "language_info": {
   "codemirror_mode": {
    "name": "ipython",
    "version": 3
   },
   "file_extension": ".py",
   "mimetype": "text/x-python",
   "name": "python",
   "nbconvert_exporter": "python",
   "pygments_lexer": "ipython3",
   "version": "3.11.5"
  }
 },
 "nbformat": 4,
 "nbformat_minor": 5
}
